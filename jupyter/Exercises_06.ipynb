{
 "cells": [
  {
   "cell_type": "markdown",
   "metadata": {},
   "source": [
    "# Pre-Exercises"
   ]
  },
  {
   "cell_type": "code",
   "execution_count": 1,
   "metadata": {},
   "outputs": [],
   "source": [
    "# importing matplotlib.pyplot allows us to generate graphs\n",
    "import matplotlib.pyplot as plt"
   ]
  },
  {
   "cell_type": "markdown",
   "metadata": {},
   "source": [
    "Create an empty list named \"solargrob\". Read the file \"solargrob.txt\" and add the values to the list \"solargrob\"."
   ]
  },
  {
   "cell_type": "markdown",
   "metadata": {},
   "source": [
    "Create another empty list. Write a loop that should go over all values of \"solargrob\". For each value, add a new entry to the new list. The value of the new entry is the rounded value of solargrob, so `round(solargrob[it])`"
   ]
  },
  {
   "cell_type": "markdown",
   "metadata": {},
   "source": [
    "Multiply each value from the new list by 10 (a NumPy array would be handy for this)."
   ]
  },
  {
   "cell_type": "markdown",
   "metadata": {},
   "source": [
    "Subtract the original list from the new list."
   ]
  },
  {
   "cell_type": "markdown",
   "metadata": {},
   "source": [
    "Calculate the sum of the first 10 elements from this difference."
   ]
  },
  {
   "cell_type": "code",
   "execution_count": 2,
   "metadata": {},
   "outputs": [
    {
     "data": {
      "text/plain": [
       "2789.0950802494326"
      ]
     },
     "execution_count": 2,
     "metadata": {},
     "output_type": "execute_result"
    }
   ],
   "source": [
    "import csv\n",
    "import numpy as np\n",
    "\n",
    "solargrob = list()\n",
    "with open(\"solargrob.txt\",'r') as file:\n",
    "    for nr,line in enumerate(csv.reader(file)):\n",
    "        if len(line) > 0:\n",
    "            solargrob.append(float(line[0]))\n",
    "\n",
    "solarfine = list()\n",
    "for entry in solargrob:\n",
    "    solarfine.append(round(entry))\n",
    "\n",
    "solarfine10 = np.array(solarfine) * 10\n",
    "solarsubstr = solarfine10 - np.array(solargrob)\n",
    "\n",
    "sum(solarsubstr[:10])"
   ]
  },
  {
   "cell_type": "markdown",
   "metadata": {},
   "source": [
    "# Exercise"
   ]
  },
  {
   "cell_type": "markdown",
   "metadata": {},
   "source": [
    "Read the file \"batterie.txt\". In addition to the usual list where the values are float, create a list where the float values are cut down (cast) to integers with `int()`. Tip: `int(float(1.9)) = 1`\n",
    "\n",
    "Consider only the first 50 entries of the list and make the difference of the two lists. Plot this difference. It shows us the rounding error that happens when we always round down.\n",
    "\n",
    "Calculate the sum of all the rounding errors and then from that calculate the average rounding error.\n",
    "\n",
    "Plot the first and second derivatives of the rounding error.\n",
    "\n",
    "Tip: Using `drawstyle=\"steps\"` on the plots makes it easier to see what is happening, as it is easier to distinguish slow and instantaneous transitions. The rounding error should gradually decrease, then abruptly increase by about 0.8, then decrease again, and so on."
   ]
  },
  {
   "cell_type": "code",
   "execution_count": 3,
   "metadata": {},
   "outputs": [
    {
     "data": {
      "image/png": "[encoded data removed]",
      "text/plain": [
       "<Figure size 432x288 with 1 Axes>"
      ]
     },
     "metadata": {
      "needs_background": "light"
     },
     "output_type": "display_data"
    },
    {
     "name": "stdout",
     "output_type": "stream",
     "text": [
      "24.5 0.49\n"
     ]
    },
    {
     "data": {
      "image/png": "[encoded data removed]",
      "text/plain": [
       "<Figure size 432x288 with 1 Axes>"
      ]
     },
     "metadata": {
      "needs_background": "light"
     },
     "output_type": "display_data"
    },
    {
     "data": {
      "image/png": "[encoded data removed]",
      "text/plain": [
       "<Figure size 432x288 with 1 Axes>"
      ]
     },
     "metadata": {
      "needs_background": "light"
     },
     "output_type": "display_data"
    }
   ],
   "source": [
    "batterylist = list()\n",
    "batterycasts = list()\n",
    "with open(\"battery.txt\",'r') as f:\n",
    "    for line in csv.reader(f):\n",
    "        if len(line) > 0:\n",
    "            val = float(line[0])\n",
    "            batterylist.append(val)\n",
    "            batterycasts.append(int(val))\n",
    "\n",
    "difference = np.array(batterylist[:50]) - np.array(batterycasts[:50])\n",
    "\n",
    "plt.plot(difference,drawstyle=\"steps\")\n",
    "plt.title(\"Differences\")\n",
    "plt.xlabel(\"Entry\")\n",
    "plt.ylabel(\"Diff\")\n",
    "plt.show()\n",
    "\n",
    "roundsum = sum(difference)\n",
    "roundavg = roundsum/len(difference)\n",
    "print(roundsum, roundavg)\n",
    "\n",
    "derivative1 = np.array(difference[1:])-np.array(difference[:-1])\n",
    "derivative2 = np.array(derivative1[1:])-np.array(derivative1[:-1])\n",
    "\n",
    "plt.plot(derivative1, drawstyle=\"steps\")\n",
    "plt.title(\"First derivative\")\n",
    "plt.xlabel(\"Entry\")\n",
    "plt.ylabel(\"Data\")\n",
    "plt.show()\n",
    "plt.plot(derivative2, drawstyle=\"steps\")\n",
    "plt.title(\"Second derivative\")\n",
    "plt.xlabel(\"Entry\")\n",
    "plt.ylabel(\"Data\")\n",
    "plt.show()\n",
    "# plt.legend([\"Orig\", \"Derivative1\", \"Derivative2\"])"
   ]
  },
  {
   "cell_type": "markdown",
   "metadata": {},
   "source": [
    "## Slices\n",
    "\n",
    "Slices can be very helpful when handling lists. Their usage is reminiscent of the already familiar ``range`` function.\n",
    "\n",
    "Remember how range can take up to three arguments: ``start``, ``stop`` and ``step``. When slicing we use the colon (``:``) to separate these arguments:\n",
    "\n",
    "~~~\n",
    "[1,2,3][start:stop:step]\n",
    "~~~\n",
    "\n",
    "If we omit one of the arguments the defaults are: ``start = 0``, ``stop = len(list)`` and ``step = 1``. Try to play around with it:"
   ]
  },
  {
   "cell_type": "code",
   "execution_count": 4,
   "metadata": {},
   "outputs": [
    {
     "data": {
      "text/plain": [
       "([1, 2, 3], [2, 3, 4])"
      ]
     },
     "execution_count": 4,
     "metadata": {},
     "output_type": "execute_result"
    }
   ],
   "source": [
    "l = [1,2,3,4]\n",
    "# [1,2,3]-[2,3,4]\n",
    "l[:-1], l[1:] # gives us what we need to calculate a derivative"
   ]
  },
  {
   "cell_type": "markdown",
   "metadata": {},
   "source": [
    "### Interesting use case scenarios\n",
    "\n",
    "We can contruct a copy of a list by slicing without arguments:\n",
    "\n",
    "~~~\n",
    "copy1 = [1,2,3][:]\n",
    "# or\n",
    "copy2 = [1,2,3][::]\n",
    "~~~\n",
    "\n",
    "We can reverse a list using a negative ``step``:\n",
    "\n",
    "~~~\n",
    "revl = [1,2,3][::-1]\n",
    "~~~\n",
    "\n",
    "We can use a negative ``stop`` as alias for ``len(list) - i``:\n",
    "\n",
    "~~~\n",
    "lastl = [1,2,3][:-1]\n",
    "~~~"
   ]
  }
 ],
 "metadata": {
  "interpreter": {
   "hash": "6c4ac116ab787042da9c41ffbc80bf30673155c2b9a9aef53a035d5874a07869"
  },
  "kernelspec": {
   "display_name": "Python 3",
   "language": "python",
   "name": "python3"
  },
  "language_info": {
   "codemirror_mode": {
    "name": "ipython",
    "version": 3
   },
   "file_extension": ".py",
   "mimetype": "text/x-python",
   "name": "python",
   "nbconvert_exporter": "python",
   "pygments_lexer": "ipython3",
   "version": "3.7.7"
  }
 },
 "nbformat": 4,
 "nbformat_minor": 4
}
