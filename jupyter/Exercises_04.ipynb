{
 "cells": [
  {
   "cell_type": "markdown",
   "metadata": {},
   "source": [
    "# Pre-Exercises"
   ]
  },
  {
   "cell_type": "code",
   "execution_count": 1,
   "metadata": {},
   "outputs": [],
   "source": [
    "# importing matplotlib.pyplot allows us to generate graphs\n",
    "import matplotlib.pyplot as plt"
   ]
  },
  {
   "cell_type": "markdown",
   "metadata": {},
   "source": [
    "Start with the simplified list (see below). Go in a loop over all values. Write an If query that outputs \"found!\" if the list value is exactly 167.7. This program should thus output \"found!\" 2 times.\n",
    "\n",
    "`simple = [123.5, 125.4, 144.6, 144.6, 112.9, 167.7, 167.7, 156.8, 198.4]`"
   ]
  },
  {
   "cell_type": "code",
   "execution_count": 2,
   "metadata": {},
   "outputs": [
    {
     "name": "stdout",
     "output_type": "stream",
     "text": [
      "Found!\n",
      "Found!\n"
     ]
    }
   ],
   "source": [
    "simple = [123.5, 125.4, 144.6, 144.6, 112.9, 167.7, 167.7, 156.8, 198.4]\n",
    "for item in simple:\n",
    "    if item == 167.7:\n",
    "        print(\"Found!\")"
   ]
  },
  {
   "cell_type": "markdown",
   "metadata": {},
   "source": [
    "*I've combined the next two pre-exercises:*\n",
    "\n",
    "Extend the program. Before the loop, a variable \"oldvalue\" should be defined, which we can set to 0 at the beginning. At the end of each loop pass, \"oldvalue\" should be replaced with the current list value (which has already been checked here)."
   ]
  },
  {
   "cell_type": "markdown",
   "metadata": {},
   "source": [
    "Now search for \"oldvalue\" instead of 167.7. Instead of the print command, you can now use a log list that contains either \"found!\" or \"not found!\" for each time step."
   ]
  },
  {
   "cell_type": "code",
   "execution_count": 3,
   "metadata": {},
   "outputs": [
    {
     "name": "stdout",
     "output_type": "stream",
     "text": [
      "['not found!', 'not found!', 'not found!', 'found!', 'not found!', 'not found!', 'found!', 'not found!', 'not found!']\n"
     ]
    }
   ],
   "source": [
    "simple = [123.5, 125.4, 144.6, 144.6, 112.9, 167.7, 167.7, 156.8, 198.4]\n",
    "oldvalue = 0\n",
    "loglist = list()\n",
    "\n",
    "for item in simple:\n",
    "    if item == oldvalue:\n",
    "        loglist.append(\"found!\")\n",
    "    else:\n",
    "        loglist.append(\"not found!\")\n",
    "    oldvalue = item\n",
    "    \n",
    "print(loglist)"
   ]
  },
  {
   "cell_type": "markdown",
   "metadata": {},
   "source": [
    "*I've combined the next four Pre-Exercises:*\n",
    "\n",
    "Now let's try to clean up the real list (the one from the exercise example) in a separate program. Go through the whole list and use an If query to find the values that are smaller than 10. When such a value is found, have \"too small!\" printed.\n",
    "\n",
    "Create a cleaned list. Only values greater than or equal to 10 are to be transferred.\n",
    "Create another list of digits. All values that are ignored are to be stored here.\n",
    "Immer wenn die Ziffernliste die Länge 4 erreicht, soll sie wieder auf die leere Liste gesetzt werden.\n",
    "\n",
    "`testvalues = [123.5, 125.4, 144.6, 1,4,4,6, 112.9, 167.7, 167.7,1,5,6,8, 198.4]`"
   ]
  },
  {
   "cell_type": "code",
   "execution_count": 4,
   "metadata": {},
   "outputs": [
    {
     "name": "stdout",
     "output_type": "stream",
     "text": [
      "[]\n",
      "[123.5, 125.4, 144.6, 112.9, 167.7, 167.7, 198.4]\n"
     ]
    }
   ],
   "source": [
    "testvalues = [123.5, 125.4, 144.6, 1,4,4,6, 112.9, 167.7, 167.7,1,5,6,8, 198.4]\n",
    "\n",
    "validvalues = list()\n",
    "ignoredvalues = []\n",
    "\n",
    "for val in testvalues:\n",
    "    if val < 10:\n",
    "        # we could print \"too small!\" here, you know how to do this by now.\n",
    "        ignoredvalues.append(val)\n",
    "    else:\n",
    "        validvalues.append(val)\n",
    "    \n",
    "    if len(ignoredvalues) == 4:\n",
    "        ignoredvalues = list()\n",
    "        \n",
    "print(ignoredvalues)\n",
    "print(validvalues)"
   ]
  },
  {
   "cell_type": "markdown",
   "metadata": {},
   "source": [
    "\n",
    "Before emptying the number list, the 4 numbers stored in the number list at position 0, 1, 2 and 3 are to be transformed into a number. For this purpose, we are looking for an arithmetic operation that makes a number out of 4 numbers (a, b, c and d). The rule for this is: a is always the 100s digit, b is always the 10s digit, c is always the 1s digit and d is always the first decimal digit. Before solving, here's a hint in case someone wants to puzzle it out themselves: How could we solve this if we only had the 100s digit? So if 1 had to become the number 100 and 5 the number 500? And how would it be if we had only the 10's digit? How could we combine them? Solution: 100 a + 10 b + c + 0.1 * d"
   ]
  },
  {
   "cell_type": "code",
   "execution_count": 5,
   "metadata": {},
   "outputs": [
    {
     "name": "stdout",
     "output_type": "stream",
     "text": [
      "167.7\n",
      "167.7\n"
     ]
    }
   ],
   "source": [
    "# imperative approach\n",
    "li = [1,6,7,7]\n",
    "multiplicators = [100, 10, 1, 0.1]\n",
    "v = 0\n",
    "for it in range(4):\n",
    "    v = v + multiplicators[it] * li[it]\n",
    "print(v)\n",
    "\n",
    "# Iterating over lists can throw an IndexError. We can use zip instead.\n",
    "# zip works just like the zipper of your hoodie\n",
    "# It takes lists and combines it into a list of tuples with multiple values\n",
    "# we can then unpack those values:\n",
    "v = 0\n",
    "for multiplicator, value in zip(multiplicators, li):\n",
    "    v += multiplicator * value\n",
    "print(v)"
   ]
  },
  {
   "cell_type": "markdown",
   "metadata": {},
   "source": [
    "# Exercise"
   ]
  },
  {
   "cell_type": "markdown",
   "metadata": {},
   "source": [
    "A pollutant protocol is to be evaluated. The issue is not whether a value is too high, but whether the same value occurs twice in succession. Here obviously no new measurement was made, but the old value was simply copied.\n",
    "\n",
    "However, there is a problem: All values should have 3 digits and one decimal place. However, some values were obviously entered incorrectly, namely digit by digit. So the number 123.4 became the 4 numbers 1, 2, 3 and 4. So the list has to be cleaned up first.\n",
    "\n",
    "When creating the cleaned list, numbers greater than or equal to 10 should simply be taken over directly. But if a number is smaller, it will be stored in a separate list. When this list is full (= has 4 entries) the correct number is created from it and stored in the cleaned list. Attention: Converting 4 digits into a number needs a little mathematical creativity - see preliminary exercise.\n",
    "\n",
    "The cleaned list is then to be examined for duplicate entries and write either \"OK\" or \"duplicate value!\" in a log for each entry.\n",
    "\n",
    "`testvalues = [123.5, 125.4, 144.6, 1,4,4,6, 112.9, 167.7, 167.7,1,5,6,8, 198.4]`"
   ]
  },
  {
   "cell_type": "code",
   "execution_count": 6,
   "metadata": {},
   "outputs": [
    {
     "name": "stdout",
     "output_type": "stream",
     "text": [
      "[123.5, 125.4, 144.6, 144.6, 112.9, 167.7, 167.7, 156.8, 198.4]\n",
      "['OK', 'OK', 'OK', 'duplicated value!', 'OK', 'OK', 'duplicated value!', 'OK', 'OK']\n"
     ]
    }
   ],
   "source": [
    "testvalues = [123.5, 125.4, 144.6, 1,4,4,6, 112.9, 167.7, 167.7,1,5,6,8, 198.4]\n",
    "\n",
    "validvalues = list()\n",
    "ignoredvalues = []\n",
    "\n",
    "multis = [100, 10, 1, 0.1]\n",
    "for val in testvalues:\n",
    "    if val < 10:\n",
    "        ignoredvalues.append(val)\n",
    "    else:\n",
    "        validvalues.append(val)\n",
    "    \n",
    "    if len(ignoredvalues) == 4:\n",
    "        new_value = 0\n",
    "        for it in range(4):\n",
    "            new_value += multis[it] * ignoredvalues[it]\n",
    "        ignoredvalues = list()\n",
    "        validvalues.append(new_value)\n",
    "\n",
    "print(validvalues)\n",
    "\n",
    "loglist = list()\n",
    "oldvalue = 0\n",
    "for item in validvalues:\n",
    "    if item == oldvalue:\n",
    "        loglist.append(\"duplicated value!\")\n",
    "    else:\n",
    "        loglist.append(\"OK\")\n",
    "    oldvalue = item\n",
    "    \n",
    "print(loglist)"
   ]
  },
  {
   "cell_type": "markdown",
   "metadata": {},
   "source": [
    "# Helpful stuff\n",
    "\n",
    "Comparing **floating point** variables can be tricky. Often the computer cannot represent their values sufficiently accurate:"
   ]
  },
  {
   "cell_type": "code",
   "execution_count": 7,
   "metadata": {},
   "outputs": [
    {
     "name": "stdout",
     "output_type": "stream",
     "text": [
      "0.0\n",
      "0.1\n",
      "0.2\n",
      "0.30000000000000004\n",
      "0.4\n",
      "0.5\n",
      "0.6000000000000001\n",
      "0.7000000000000001\n",
      "0.8\n",
      "0.9\n"
     ]
    }
   ],
   "source": [
    "for i in range(10):\n",
    "    print(i*0.1)"
   ]
  },
  {
   "cell_type": "markdown",
   "metadata": {},
   "source": [
    "Now what happens if we try to compare `3 * 0.1` to `0.3`?"
   ]
  },
  {
   "cell_type": "code",
   "execution_count": 8,
   "metadata": {},
   "outputs": [
    {
     "name": "stdout",
     "output_type": "stream",
     "text": [
      "False\n",
      "True\n"
     ]
    }
   ],
   "source": [
    "print(3*0.1 == 0.3)\n",
    "print(2*0.1 == 0.2)"
   ]
  },
  {
   "cell_type": "markdown",
   "metadata": {},
   "source": [
    "That's why we should **never** compare floating point values with `==`! (This rule holds for pretty much any programming language)\n",
    "\n",
    "Python's solution to our problem is provided by the `math` module:"
   ]
  },
  {
   "cell_type": "code",
   "execution_count": 9,
   "metadata": {},
   "outputs": [
    {
     "name": "stdout",
     "output_type": "stream",
     "text": [
      "True\n",
      "True\n"
     ]
    }
   ],
   "source": [
    "from math import isclose\n",
    "\n",
    "print(isclose(3*0.1, 0.3))\n",
    "# We apparently get a little space for an error:\n",
    "print(isclose(3*0.1, 0.3 + 0.0000000001))"
   ]
  },
  {
   "cell_type": "code",
   "execution_count": 10,
   "metadata": {},
   "outputs": [
    {
     "name": "stdout",
     "output_type": "stream",
     "text": [
      "Help on built-in function isclose in module math:\n",
      "\n",
      "isclose(a, b, *, rel_tol=1e-09, abs_tol=0.0)\n",
      "    Determine whether two floating point numbers are close in value.\n",
      "    \n",
      "      rel_tol\n",
      "        maximum difference for being considered \"close\", relative to the\n",
      "        magnitude of the input values\n",
      "      abs_tol\n",
      "        maximum difference for being considered \"close\", regardless of the\n",
      "        magnitude of the input values\n",
      "    \n",
      "    Return True if a is close in value to b, and False otherwise.\n",
      "    \n",
      "    For the values to be considered close, the difference between them\n",
      "    must be smaller than at least one of the tolerances.\n",
      "    \n",
      "    -inf, inf and NaN behave similarly to the IEEE 754 Standard.  That\n",
      "    is, NaN is not close to anything, even itself.  inf and -inf are\n",
      "    only close to themselves.\n",
      "\n"
     ]
    }
   ],
   "source": [
    "help(isclose)"
   ]
  },
  {
   "cell_type": "markdown",
   "metadata": {},
   "source": [
    "# Interesting Stuff"
   ]
  },
  {
   "cell_type": "markdown",
   "metadata": {},
   "source": [
    "The predicate inside an if-statement evaluates to a boolean value. Booleans are either `True` or `False`."
   ]
  },
  {
   "cell_type": "code",
   "execution_count": 11,
   "metadata": {},
   "outputs": [
    {
     "name": "stdout",
     "output_type": "stream",
     "text": [
      "True\n"
     ]
    }
   ],
   "source": [
    "if True:\n",
    "    print(\"True\")"
   ]
  },
  {
   "cell_type": "code",
   "execution_count": 12,
   "metadata": {},
   "outputs": [],
   "source": [
    "if False:\n",
    "    print(\"False\")\n",
    "# Nothing happens"
   ]
  },
  {
   "cell_type": "code",
   "execution_count": 13,
   "metadata": {},
   "outputs": [
    {
     "data": {
      "text/plain": [
       "True"
      ]
     },
     "execution_count": 13,
     "metadata": {},
     "output_type": "execute_result"
    }
   ],
   "source": [
    "500 > 400"
   ]
  },
  {
   "cell_type": "code",
   "execution_count": 14,
   "metadata": {},
   "outputs": [
    {
     "data": {
      "text/plain": [
       "False"
      ]
     },
     "execution_count": 14,
     "metadata": {},
     "output_type": "execute_result"
    }
   ],
   "source": [
    "400 > 500"
   ]
  },
  {
   "cell_type": "markdown",
   "metadata": {},
   "source": [
    "I'd advise you to accompany an if-statement with an else-clause. You can use the keyword `pass` in case you want nothing to happen."
   ]
  },
  {
   "cell_type": "code",
   "execution_count": 15,
   "metadata": {},
   "outputs": [
    {
     "name": "stdout",
     "output_type": "stream",
     "text": [
      "False\n"
     ]
    }
   ],
   "source": [
    "if False:\n",
    "    print(\"True\")\n",
    "else:\n",
    "    print(\"False\")"
   ]
  },
  {
   "cell_type": "code",
   "execution_count": 16,
   "metadata": {
    "scrolled": true
   },
   "outputs": [
    {
     "name": "stdout",
     "output_type": "stream",
     "text": [
      "True\n"
     ]
    }
   ],
   "source": [
    "if True:\n",
    "    print(\"True\")\n",
    "else:\n",
    "    pass"
   ]
  },
  {
   "cell_type": "markdown",
   "metadata": {},
   "source": [
    "The _ternary operator_ allows you to assign values using an `if-else` clause."
   ]
  },
  {
   "cell_type": "code",
   "execution_count": 17,
   "metadata": {},
   "outputs": [
    {
     "name": "stdout",
     "output_type": "stream",
     "text": [
      "20\n"
     ]
    }
   ],
   "source": [
    "i = 10\n",
    "t = 6\n",
    "i = (2*i if i > 5 else 4*i)\n",
    "print(i)"
   ]
  },
  {
   "cell_type": "code",
   "execution_count": 18,
   "metadata": {},
   "outputs": [
    {
     "name": "stdout",
     "output_type": "stream",
     "text": [
      "10\n"
     ]
    }
   ],
   "source": [
    "i = 10\n",
    "t = 1\n",
    "if t > 5:\n",
    "    i = 2*i\n",
    "# else:\n",
    "#     i = 4*i\n",
    "print(i)"
   ]
  },
  {
   "cell_type": "markdown",
   "metadata": {},
   "source": [
    "You can test many cases using `elif` (else (- then) - if):"
   ]
  },
  {
   "cell_type": "code",
   "execution_count": 19,
   "metadata": {},
   "outputs": [
    {
     "name": "stdout",
     "output_type": "stream",
     "text": [
      "B\n"
     ]
    }
   ],
   "source": [
    "i = 10\n",
    "if i < 5:\n",
    "    print(\"A\")\n",
    "elif i < 15:\n",
    "    print(\"B\")\n",
    "else:\n",
    "    print(\"C\")"
   ]
  },
  {
   "cell_type": "code",
   "execution_count": 20,
   "metadata": {},
   "outputs": [
    {
     "name": "stdout",
     "output_type": "stream",
     "text": [
      "B\n",
      "C\n"
     ]
    }
   ],
   "source": [
    "i = 10\n",
    "if i < 5:\n",
    "    print(\"A\")\n",
    "if i < 15:\n",
    "    print(\"B\")\n",
    "if i < 25:\n",
    "    print(\"C\")"
   ]
  }
 ],
 "metadata": {
  "kernelspec": {
   "display_name": "Python 3 (ipykernel)",
   "language": "python",
   "name": "python3"
  },
  "language_info": {
   "codemirror_mode": {
    "name": "ipython",
    "version": 3
   },
   "file_extension": ".py",
   "mimetype": "text/x-python",
   "name": "python",
   "nbconvert_exporter": "python",
   "pygments_lexer": "ipython3",
   "version": "3.9.6"
  }
 },
 "nbformat": 4,
 "nbformat_minor": 4
}
