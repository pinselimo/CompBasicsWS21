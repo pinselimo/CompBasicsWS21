{
 "cells": [
  {
   "cell_type": "markdown",
   "metadata": {},
   "source": [
    "# Pre-Exercises"
   ]
  },
  {
   "cell_type": "code",
   "execution_count": 1,
   "metadata": {},
   "outputs": [],
   "source": [
    "# importing matplotlib.pyplot allows us to generate graphs\n",
    "import matplotlib.pyplot as plt"
   ]
  },
  {
   "cell_type": "markdown",
   "metadata": {},
   "source": [
    "Create a loop for 20 passes. In it, a random number between 1 and 6 is to be created each time, casted to `int()` and then output with `print()`."
   ]
  },
  {
   "cell_type": "markdown",
   "metadata": {},
   "source": [
    "Notice that the numbers output are no longer between 1 and 6, but between 0 and 5. Look for an arithmetic operation or a change in the code that could solve this problem (both are possible)."
   ]
  },
  {
   "cell_type": "code",
   "execution_count": 2,
   "metadata": {
    "scrolled": true
   },
   "outputs": [
    {
     "name": "stdout",
     "output_type": "stream",
     "text": [
      "2\n",
      "6\n",
      "3\n",
      "3\n",
      "4\n",
      "1\n",
      "3\n",
      "6\n",
      "4\n",
      "5\n",
      "5\n",
      "6\n",
      "5\n",
      "6\n",
      "1\n",
      "3\n",
      "5\n",
      "5\n",
      "2\n",
      "6\n"
     ]
    }
   ],
   "source": [
    "import random as rd\n",
    "\n",
    "for it in range(20):\n",
    "    n = int(rd.uniform(0,6))\n",
    "    print(n+1)"
   ]
  },
  {
   "cell_type": "markdown",
   "metadata": {},
   "source": [
    "Create a frog pond that starts at 0 frogs and randomly adds 1,2,3,4,5 or 6 frogs at each time step. Simulate 100 time steps."
   ]
  },
  {
   "cell_type": "markdown",
   "metadata": {},
   "source": [
    "Add a constant fly population of 1. Here we don't need a list, just the current value of the flies. Once 6 frogs are added in a time step, the fly population drops to 0.\n",
    "\n",
    "If there are 0 flies, no more frogs can be added. Simulate the whole period anyway."
   ]
  },
  {
   "cell_type": "markdown",
   "metadata": {},
   "source": [
    "Simulate this frog pond 5 times in a row by putting the whole program into a for loop. Attention: If you use a loop inside the program where you name the run variable it, you have to choose a different name in the outer loop, e.g. `for kt in range(5):`"
   ]
  },
  {
   "cell_type": "code",
   "execution_count": 3,
   "metadata": {},
   "outputs": [
    {
     "data": {
      "text/plain": [
       "<matplotlib.legend.Legend at 0x7fe5f4935130>"
      ]
     },
     "execution_count": 3,
     "metadata": {},
     "output_type": "execute_result"
    },
    {
     "data": {
      "image/png": "[encoded data removed]",
      "text/plain": [
       "<Figure size 432x288 with 1 Axes>"
      ]
     },
     "metadata": {
      "needs_background": "light"
     },
     "output_type": "display_data"
    }
   ],
   "source": [
    "for kt in range(5):\n",
    "    pond = [0]\n",
    "    flies = 1\n",
    "    for it in range(100):\n",
    "        frogs = pond[-1]\n",
    "\n",
    "        frogs_added = int(rd.uniform(1,7))\n",
    "        if frogs_added == 6:\n",
    "            flies = 0\n",
    "\n",
    "        if not flies == 0:\n",
    "            frogs += frogs_added\n",
    "\n",
    "        pond.append(frogs)\n",
    "\n",
    "    plt.plot(pond)\n",
    "    \n",
    "plt.title(\"Frog pond\")\n",
    "plt.xlabel(\"Time\")\n",
    "plt.ylabel(\"Frogs\")\n",
    "plt.legend(range(1,6))"
   ]
  },
  {
   "cell_type": "markdown",
   "metadata": {},
   "source": [
    "# Exercise"
   ]
  },
  {
   "cell_type": "markdown",
   "metadata": {},
   "source": [
    "Simulate the result of the following dice game:\n",
    "\n",
    "Each round a 6-sided die is rolled and the number of dice is added to the total points. If you roll 2 or more, you may continue to roll the dice. After 100 rolls, however, the game is over no matter what you roll.\n",
    "\n",
    "Simulate 100 such games and plot the total points achieved as a histogram."
   ]
  },
  {
   "cell_type": "code",
   "execution_count": 4,
   "metadata": {},
   "outputs": [
    {
     "data": {
      "text/plain": [
       "Text(0, 0.5, 'Games')"
      ]
     },
     "execution_count": 4,
     "metadata": {},
     "output_type": "execute_result"
    },
    {
     "data": {
      "image/png": "[encoded data removed]",
      "text/plain": [
       "<Figure size 432x288 with 1 Axes>"
      ]
     },
     "metadata": {
      "needs_background": "light"
     },
     "output_type": "display_data"
    }
   ],
   "source": [
    "rd.seed(0)\n",
    "game_points = list()\n",
    "for game in range(100):\n",
    "    points = 0\n",
    "    for _ in range(100):\n",
    "        dice = int(rd.uniform(1,7))\n",
    "        points += dice\n",
    "        if dice == 1:\n",
    "            break\n",
    "            \n",
    "    game_points.append(points)\n",
    "\n",
    "plt.hist(game_points)\n",
    "plt.title(\"Game of dice (Total points)\")\n",
    "plt.xlabel(\"Points\")\n",
    "plt.ylabel(\"Games\")"
   ]
  },
  {
   "cell_type": "markdown",
   "metadata": {},
   "source": [
    "# Helpful stuff\n",
    "\n",
    "Pseudo-random numbers, random number generators and [deterministic chaos](http://systems-sciences.uni-graz.at/etextbook/sw2/chaos.html).\n",
    "\n",
    "Computers are deterministic machines, so how can they create random numbers? They can't, really.\n",
    "\n",
    "Instead they create a sequence of relatively chaotic numbers. If we pin down where this sequence starts, using the `seed` method on `random`, we get the **same** sequence every time:"
   ]
  },
  {
   "cell_type": "code",
   "execution_count": 5,
   "metadata": {},
   "outputs": [
    {
     "data": {
      "text/plain": [
       "(6.736205631335496, 6.686964922356096, 1.3393082063608521, 1.5092319709535298)"
      ]
     },
     "execution_count": 5,
     "metadata": {},
     "output_type": "execute_result"
    }
   ],
   "source": [
    "rd.seed(2)\n",
    "\n",
    "rd.uniform(1,7),rd.uniform(1,7),rd.uniform(1,7),rd.uniform(1,7)"
   ]
  },
  {
   "cell_type": "markdown",
   "metadata": {},
   "source": [
    "*Seeding* the random number generator (RNG) can be very useful when debugging or performing certain experiments. If we want to reason about the behaviour of our code it can be very confusing if some effects only appear every 10th time.\n",
    "\n",
    "Also when preparing nice graphs it's useful to remember the seed used so a graph can be regenerated with - e.g. - other colors. Finally, if you present some results from a model leveraging randomness its important to also have a seed for reproducibility."
   ]
  }
 ],
 "metadata": {
  "interpreter": {
   "hash": "6c4ac116ab787042da9c41ffbc80bf30673155c2b9a9aef53a035d5874a07869"
  },
  "kernelspec": {
   "display_name": "Python 3 (ipykernel)",
   "language": "python",
   "name": "python3"
  },
  "language_info": {
   "codemirror_mode": {
    "name": "ipython",
    "version": 3
   },
   "file_extension": ".py",
   "mimetype": "text/x-python",
   "name": "python",
   "nbconvert_exporter": "python",
   "pygments_lexer": "ipython3",
   "version": "3.9.6"
  }
 },
 "nbformat": 4,
 "nbformat_minor": 4
}
