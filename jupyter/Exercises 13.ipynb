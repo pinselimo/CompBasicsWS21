{
 "cells": [
  {
   "cell_type": "markdown",
   "metadata": {},
   "source": [
    "I was asked to revisit the difference between function declaration and calling, class declaration and instantiation and method declaration and calling.\n",
    "\n",
    "We use `def` to declare a function. What follows is what we call the _function signature_, then a `:` and then the _function body_ which is indented by four spaces and often ends with a `return` statement:"
   ]
  },
  {
   "cell_type": "code",
   "execution_count": 1,
   "metadata": {},
   "outputs": [],
   "source": [
    "def square(x):\n",
    "    return x**2"
   ]
  },
  {
   "cell_type": "markdown",
   "metadata": {},
   "source": [
    "Using the function signature we can also call the function. The arguments declared in the signature are then used to process and we get back whatever we evaluate after the `return`:"
   ]
  },
  {
   "cell_type": "code",
   "execution_count": 2,
   "metadata": {},
   "outputs": [
    {
     "data": {
      "text/plain": [
       "4"
      ]
     },
     "execution_count": 2,
     "metadata": {},
     "output_type": "execute_result"
    }
   ],
   "source": [
    "square(2)"
   ]
  },
  {
   "cell_type": "markdown",
   "metadata": {},
   "source": [
    "The `class` keyword introduces a similar syntax with very different meaning. Like for a function we give a name to the class. By convention this name is capitalized.\n",
    "\n",
    "Anything following in parentheses is not a parameter, but a so called _superclass_ (or _parent class_). In fact, all objects in Python inherit from `object`. The part in parentheses in `class Classname(object)` is usually omitted.\n",
    "\n",
    "The parameters we call upon _instantiation_ of a class are found in the special method `__init__`. Special methods are methods with leading and trailing double underscores. Python uses those for internal purposes, they can be defined but should not be called directly.\n",
    "\n",
    "As `__init__` is a method, it has access to a `self` parameter. If we call the class name (_instantiation_) we create a **new** object of this class. The `__init__` method forges this new object into the shape of the class. The class is the blueprint for any new instance of it."
   ]
  },
  {
   "cell_type": "code",
   "execution_count": 3,
   "metadata": {},
   "outputs": [],
   "source": [
    "class Powerizer(object):\n",
    "    def __init__(self, to):\n",
    "        self.to = to\n",
    "        \n",
    "    def power(self, x):\n",
    "        return x**self.to\n",
    "    \n",
    "    def square(self, x):\n",
    "        return x**2\n",
    "        \n",
    "p = Powerizer(to=3)"
   ]
  },
  {
   "cell_type": "markdown",
   "metadata": {},
   "source": [
    "In the example class we create objects which are _powerizers_ and carry a state in the attribute `to`. Any two instances of this class can carry different state in `to`."
   ]
  },
  {
   "cell_type": "code",
   "execution_count": 4,
   "metadata": {},
   "outputs": [
    {
     "data": {
      "text/plain": [
       "3"
      ]
     },
     "execution_count": 4,
     "metadata": {},
     "output_type": "execute_result"
    }
   ],
   "source": [
    "p.to"
   ]
  },
  {
   "cell_type": "markdown",
   "metadata": {},
   "source": [
    "A method is very similar to a function. The key differences are, that methods live inside classes and their first argument is always `self`. This first argument is handed to the method by Python itself. We only ever need to call methods with the parameters following this `self`.\n",
    "\n",
    "Using `self`, the method has access to the individual state an object carries. For instance, `p` has its `to` attribute set to $3$. The `power` method raises its argument to the power of `to` (in the case of `p` this is the power of $3$).\n",
    "\n",
    "Notice also the `p.square` method. It is similar to the `square` function in what it does. It would have access to the state of the `Powerizer` instance it is called on, we just chose to ignore this `self`."
   ]
  },
  {
   "cell_type": "code",
   "execution_count": 5,
   "metadata": {},
   "outputs": [
    {
     "data": {
      "text/plain": [
       "27"
      ]
     },
     "execution_count": 5,
     "metadata": {},
     "output_type": "execute_result"
    }
   ],
   "source": [
    "p.power(3)"
   ]
  },
  {
   "cell_type": "markdown",
   "metadata": {},
   "source": [
    "# The Zen of Python"
   ]
  },
  {
   "cell_type": "markdown",
   "metadata": {},
   "source": [
    "As we have seen throughout this semester, there are often many paths to the same result in Python. However, they are rarely equal. An order of elegance and _pythonism_ separates them.\n",
    "\n",
    "In times of distress we can turn to the _Zen of Python_ for guidance among these paths. You can summon it with\n",
    "\n",
    "~~~python\n",
    "import this\n",
    "~~~"
   ]
  },
  {
   "cell_type": "code",
   "execution_count": 6,
   "metadata": {
    "scrolled": false
   },
   "outputs": [
    {
     "name": "stdout",
     "output_type": "stream",
     "text": [
      "The Zen of Python, by Tim Peters\n",
      "\n",
      "Beautiful is better than ugly.\n",
      "Explicit is better than implicit.\n",
      "Simple is better than complex.\n",
      "Complex is better than complicated.\n",
      "Flat is better than nested.\n",
      "Sparse is better than dense.\n",
      "Readability counts.\n",
      "Special cases aren't special enough to break the rules.\n",
      "Although practicality beats purity.\n",
      "Errors should never pass silently.\n",
      "Unless explicitly silenced.\n",
      "In the face of ambiguity, refuse the temptation to guess.\n",
      "There should be one-- and preferably only one --obvious way to do it.\n",
      "Although that way may not be obvious at first unless you're Dutch.\n",
      "Now is better than never.\n",
      "Although never is often better than *right* now.\n",
      "If the implementation is hard to explain, it's a bad idea.\n",
      "If the implementation is easy to explain, it may be a good idea.\n",
      "Namespaces are one honking great idea -- let's do more of those!\n"
     ]
    }
   ],
   "source": [
    "import this"
   ]
  },
  {
   "cell_type": "markdown",
   "metadata": {},
   "source": [
    "We've already seen namespaces to great extent. Here is the summary:\n",
    "\n",
    "+ To **look** into a namespace use the `dir(namespace)` function\n",
    "+ To **move** into a namespace use the dot: `.`\n",
    "+ Namespaces are available on all Python objects, including modules\n",
    "+ There is a global namespace which you can discover by calling `dir()` without arguments"
   ]
  },
  {
   "cell_type": "code",
   "execution_count": 7,
   "metadata": {},
   "outputs": [],
   "source": [
    "import numpy as np"
   ]
  },
  {
   "cell_type": "code",
   "execution_count": 8,
   "metadata": {},
   "outputs": [
    {
     "data": {
      "text/plain": [
       "array([ 4,  9, 16, 25], dtype=int32)"
      ]
     },
     "execution_count": 8,
     "metadata": {},
     "output_type": "execute_result"
    }
   ],
   "source": [
    "np.square([2,3,4,5])"
   ]
  },
  {
   "cell_type": "markdown",
   "metadata": {},
   "source": [
    "## Identity and equality"
   ]
  },
  {
   "cell_type": "markdown",
   "metadata": {},
   "source": [
    "Reconsider the last part of the Pre-Exercise 11. In certain cases there certainly could be two distinct fungi at the same position. The description disregards such cases on purpose, of course, as to not complicate the matter. But what if we wanted to know if a fungus merely grows at the same spot or is actually the very same fungus as another?\n",
    "\n",
    "In other words: How do we compare objects for (in-)equality and identity?"
   ]
  },
  {
   "cell_type": "code",
   "execution_count": 9,
   "metadata": {},
   "outputs": [
    {
     "data": {
      "text/plain": [
       "1792440591816"
      ]
     },
     "execution_count": 9,
     "metadata": {},
     "output_type": "execute_result"
    }
   ],
   "source": [
    "class A:\n",
    "    pass\n",
    "a1 = A()\n",
    "id(a1)"
   ]
  },
  {
   "cell_type": "markdown",
   "metadata": {},
   "source": [
    "As we can see, even an object of a completely empty class `A` has an identity. This identity can be queried using the `id` function."
   ]
  },
  {
   "cell_type": "code",
   "execution_count": 10,
   "metadata": {},
   "outputs": [
    {
     "data": {
      "text/plain": [
       "1792440593928"
      ]
     },
     "execution_count": 10,
     "metadata": {},
     "output_type": "execute_result"
    }
   ],
   "source": [
    "a2 = A()\n",
    "id(a2)"
   ]
  },
  {
   "cell_type": "markdown",
   "metadata": {},
   "source": [
    "Another object of the same class does not have the same `id`. So surely they are not the same:"
   ]
  },
  {
   "cell_type": "code",
   "execution_count": 11,
   "metadata": {},
   "outputs": [
    {
     "data": {
      "text/plain": [
       "False"
      ]
     },
     "execution_count": 11,
     "metadata": {},
     "output_type": "execute_result"
    }
   ],
   "source": [
    "a2 is a1"
   ]
  },
  {
   "cell_type": "markdown",
   "metadata": {},
   "source": [
    "But what about objects that can be equal while they are not the same?\n",
    "\n",
    "Consider the class `Circle` which has a radius. Two circles are equal if the have the same radius."
   ]
  },
  {
   "cell_type": "code",
   "execution_count": 12,
   "metadata": {},
   "outputs": [],
   "source": [
    "class Circle:\n",
    "    def __init__(self, radius):\n",
    "        self.radius = radius\n",
    "        \n",
    "c1 = Circle(1)\n",
    "c2 = Circle(1)"
   ]
  },
  {
   "cell_type": "markdown",
   "metadata": {},
   "source": [
    "iIf we want to compare for equality, rather than identity, we already have learnt to use `==`.\n",
    "\n",
    "The following should yield `True` given our reasoning:"
   ]
  },
  {
   "cell_type": "code",
   "execution_count": 13,
   "metadata": {},
   "outputs": [
    {
     "data": {
      "text/plain": [
       "(False, False)"
      ]
     },
     "execution_count": 13,
     "metadata": {},
     "output_type": "execute_result"
    }
   ],
   "source": [
    "c1 == c2, c1 is c2"
   ]
  },
  {
   "cell_type": "markdown",
   "metadata": {},
   "source": [
    "What has happened here?\n",
    "\n",
    "Behind the scenes Python uses identity as equality if we don't tell it otherwise. Here is how we can define our own equality.\n",
    "\n",
    "It works very similar to how we defined our `distance` method above:"
   ]
  },
  {
   "cell_type": "code",
   "execution_count": 14,
   "metadata": {},
   "outputs": [],
   "source": [
    "class Circle:\n",
    "    def __init__(self, radius):\n",
    "        self.radius = radius\n",
    "        \n",
    "    def __eq__(self, other):\n",
    "        return self.radius == other.radius\n",
    "    \n",
    "c1 = Circle(1)\n",
    "c2 = Circle(1)\n",
    "c3 = c2"
   ]
  },
  {
   "cell_type": "markdown",
   "metadata": {},
   "source": [
    "Now we can distinguish if two circles really **are** the same, or if they merely satisfy our conditions of equality.\n",
    "\n",
    "This can be especially useful if we want to treat the two circles differently later on."
   ]
  },
  {
   "cell_type": "code",
   "execution_count": 15,
   "metadata": {},
   "outputs": [
    {
     "data": {
      "text/plain": [
       "(True, False, True, True)"
      ]
     },
     "execution_count": 15,
     "metadata": {},
     "output_type": "execute_result"
    }
   ],
   "source": [
    "c1 == c3, \\\n",
    "c1 is c3, \\\n",
    "c2 is c3, \\\n",
    "c2 == c3"
   ]
  },
  {
   "cell_type": "markdown",
   "metadata": {},
   "source": [
    "## Mutability and its pitfalls"
   ]
  },
  {
   "cell_type": "markdown",
   "metadata": {},
   "source": [
    "The issue of identity is especially pressing when mutating objects. Lists e.g. are mutable:"
   ]
  },
  {
   "cell_type": "code",
   "execution_count": 16,
   "metadata": {},
   "outputs": [
    {
     "name": "stdout",
     "output_type": "stream",
     "text": [
      "['a']\n",
      "['a']\n"
     ]
    },
    {
     "data": {
      "text/plain": [
       "True"
      ]
     },
     "execution_count": 16,
     "metadata": {},
     "output_type": "execute_result"
    }
   ],
   "source": [
    "l1 = list()\n",
    "l2 = l1 # assign l1 to l2\n",
    "l1.append('a')\n",
    "# appending on l2 also appends on l1 -> They are the same object!\n",
    "print(l1)\n",
    "print(l2)\n",
    "\n",
    "l1 is l2 # This is the reason they seem to both change"
   ]
  },
  {
   "cell_type": "markdown",
   "metadata": {},
   "source": [
    "It may seem intuitive, that if we say `l1 = l2` we get this result. But this does not work if we re-assign rather than mutate. For example with integers:"
   ]
  },
  {
   "cell_type": "code",
   "execution_count": 17,
   "metadata": {},
   "outputs": [
    {
     "data": {
      "text/plain": [
       "(1, 2)"
      ]
     },
     "execution_count": 17,
     "metadata": {},
     "output_type": "execute_result"
    }
   ],
   "source": [
    "i = 1\n",
    "j = i\n",
    "j += 1\n",
    "i,j"
   ]
  },
  {
   "cell_type": "markdown",
   "metadata": {},
   "source": [
    "or with tuples:"
   ]
  },
  {
   "cell_type": "code",
   "execution_count": 18,
   "metadata": {},
   "outputs": [
    {
     "data": {
      "text/plain": [
       "((1, 2), (1, 2, 3))"
      ]
     },
     "execution_count": 18,
     "metadata": {},
     "output_type": "execute_result"
    }
   ],
   "source": [
    "t = (1,2)\n",
    "u = t\n",
    "u += (3,)\n",
    "t,u"
   ]
  },
  {
   "cell_type": "markdown",
   "metadata": {},
   "source": [
    "This is why lists being mutable and tuples being immutable is such an important thing to know in Python.\n",
    "\n",
    "In more obscure use cases like the following, the mutability of lists (and object attributes in Python in general) can catch us off guard:"
   ]
  },
  {
   "cell_type": "code",
   "execution_count": 19,
   "metadata": {},
   "outputs": [
    {
     "name": "stdout",
     "output_type": "stream",
     "text": [
      "[[], [], []]\n",
      "[['a'], ['a'], ['a']]\n"
     ]
    }
   ],
   "source": [
    "li = [list()] * 3 # create a list of three empty lists\n",
    "print(li) # check the result is correct\n",
    "\n",
    "li[0].append('a') # append `1` to the first list in the super-list\n",
    "print(li) # what happened?"
   ]
  },
  {
   "cell_type": "markdown",
   "metadata": {},
   "source": [
    "Now we can also understand better how list comprehensions work:"
   ]
  },
  {
   "cell_type": "code",
   "execution_count": 20,
   "metadata": {},
   "outputs": [
    {
     "name": "stdout",
     "output_type": "stream",
     "text": [
      "[[], [], []]\n",
      "[['a'], [], []]\n"
     ]
    }
   ],
   "source": [
    "li = [list() for _ in range(3)]\n",
    "print(li)\n",
    "\n",
    "li[0].append('a') # append `1` to the first list in the super-list\n",
    "print(li) # what happened?"
   ]
  },
  {
   "cell_type": "markdown",
   "metadata": {},
   "source": [
    "## Multiple inheritance"
   ]
  },
  {
   "cell_type": "markdown",
   "metadata": {},
   "source": [
    "We now know that a class `B` can inherit methods from a class `A` by defining it as `B(A)`. But what if another class `C` inherits from `B`? Will it also inherit from `A`?"
   ]
  },
  {
   "cell_type": "code",
   "execution_count": 21,
   "metadata": {},
   "outputs": [
    {
     "data": {
      "text/plain": [
       "63"
      ]
     },
     "execution_count": 21,
     "metadata": {},
     "output_type": "execute_result"
    }
   ],
   "source": [
    "class Animal:\n",
    "    lifepoints = 63\n",
    "class Rabbit(Animal):\n",
    "    pass\n",
    "class Wolf(Animal):\n",
    "    pass\n",
    "\n",
    "wolf1 = Wolf()\n",
    "wolf1.lifepoints # it does!"
   ]
  },
  {
   "cell_type": "markdown",
   "metadata": {},
   "source": [
    "This was foreseeable. Let's have a look at a more interesting case: *Multiple inheritance*\n",
    "\n",
    "Let's say we have two separate classes:\n",
    "+ `Predator` defines an attribute `lifepoints` as `63`\n",
    "+ `Prey` defined an attribute, also named `lifepoints`, as `42`\n",
    "\n",
    "The class `Fox` inherits from both `Predator` and `Prey`, just as `Hog` but in reverse order:"
   ]
  },
  {
   "cell_type": "code",
   "execution_count": 22,
   "metadata": {},
   "outputs": [
    {
     "data": {
      "text/plain": [
       "(63, 42)"
      ]
     },
     "execution_count": 22,
     "metadata": {},
     "output_type": "execute_result"
    }
   ],
   "source": [
    "class Predator:\n",
    "    lifepoints = 63\n",
    "class Prey:\n",
    "    lifepoints = 42\n",
    "    \n",
    "class Fox(Predator, Prey):\n",
    "    pass\n",
    "class Hog(Prey, Predator):\n",
    "    pass\n",
    "\n",
    "fox1 = Fox()\n",
    "hog1 = Hog()\n",
    "fox1.lifepoints, hog1.lifepoints"
   ]
  },
  {
   "cell_type": "markdown",
   "metadata": {},
   "source": [
    "We can observe, that the order of inheritance is in fact important!\n",
    "\n",
    "If we want to have a look at the order at which attribute and method names are looked up, we can use the `__mro__` attribute of a class:"
   ]
  },
  {
   "cell_type": "code",
   "execution_count": 23,
   "metadata": {},
   "outputs": [
    {
     "data": {
      "text/plain": [
       "(__main__.Fox, __main__.Predator, __main__.Prey, object)"
      ]
     },
     "execution_count": 23,
     "metadata": {},
     "output_type": "execute_result"
    }
   ],
   "source": [
    "Fox.__mro__"
   ]
  },
  {
   "cell_type": "code",
   "execution_count": 24,
   "metadata": {},
   "outputs": [
    {
     "data": {
      "text/plain": [
       "(__main__.Hog, __main__.Prey, __main__.Predator, object)"
      ]
     },
     "execution_count": 24,
     "metadata": {},
     "output_type": "execute_result"
    }
   ],
   "source": [
    "Hog.__mro__"
   ]
  },
  {
   "cell_type": "markdown",
   "metadata": {},
   "source": [
    "Just above I mentioned a method or attribute can be *overridden*. Let's see how that works.\n",
    "\n",
    "Say in the last example we also want to add a fusion power plant. It is like a normal power plant, but we need to know how much hydrogen it uses:"
   ]
  },
  {
   "cell_type": "code",
   "execution_count": 25,
   "metadata": {},
   "outputs": [
    {
     "data": {
      "text/plain": [
       "300"
      ]
     },
     "execution_count": 25,
     "metadata": {},
     "output_type": "execute_result"
    }
   ],
   "source": [
    "class PowerPlant:\n",
    "    def __init__(self, f, out):\n",
    "        self.f = f\n",
    "        self.out = out\n",
    "        self.inoperation = 'no'\n",
    "        self.shape = '.'\n",
    "        \n",
    "    def emissions(self):\n",
    "        return self.f * self.out\n",
    "    \n",
    "    def turn_on(self):\n",
    "        self.inoperation = 'yes'\n",
    "        \n",
    "    def draw(self):\n",
    "        plt.scatter(rd.randint(0,5), rd.randint(0,5)\n",
    "                   , marker=self.shape\n",
    "                   , s = self.out / 10\n",
    "                   , color = 'red' if self.inoperation == 'no' else 'green'\n",
    "                   )\n",
    "\n",
    "class FusionPlant(PowerPlant):\n",
    "    def __init__(self, hydrogen_demand):\n",
    "        self.hydrogen_demand = hydrogen_demand\n",
    "        \n",
    "fp = FusionPlant(300)\n",
    "fp.hydrogen_demand"
   ]
  },
  {
   "cell_type": "markdown",
   "metadata": {},
   "source": [
    "That seems to work, but the mindful reader may have noticed: We do not initialize `PowerPlant` proper!\n",
    "\n",
    "We can observe this easily:"
   ]
  },
  {
   "cell_type": "code",
   "execution_count": 26,
   "metadata": {},
   "outputs": [
    {
     "ename": "AttributeError",
     "evalue": "'FusionPlant' object has no attribute 'shape'",
     "output_type": "error",
     "traceback": [
      "\u001b[1;31m---------------------------------------------------------------------------\u001b[0m",
      "\u001b[1;31mAttributeError\u001b[0m                            Traceback (most recent call last)",
      "\u001b[1;32m<ipython-input-26-be9770a3f291>\u001b[0m in \u001b[0;36m<module>\u001b[1;34m\u001b[0m\n\u001b[1;32m----> 1\u001b[1;33m \u001b[0mfp\u001b[0m\u001b[1;33m.\u001b[0m\u001b[0mshape\u001b[0m\u001b[1;33m,\u001b[0m \u001b[0mfp\u001b[0m\u001b[1;33m.\u001b[0m\u001b[0mout\u001b[0m\u001b[1;33m.\u001b[0m \u001b[0mfp\u001b[0m\u001b[1;33m.\u001b[0m\u001b[0mf\u001b[0m\u001b[1;33m\u001b[0m\u001b[1;33m\u001b[0m\u001b[0m\n\u001b[0m",
      "\u001b[1;31mAttributeError\u001b[0m: 'FusionPlant' object has no attribute 'shape'"
     ]
    }
   ],
   "source": [
    "fp.shape, fp.out. fp.f"
   ]
  },
  {
   "cell_type": "markdown",
   "metadata": {},
   "source": [
    "So how would we do this? We call `super` !"
   ]
  },
  {
   "cell_type": "code",
   "execution_count": 27,
   "metadata": {},
   "outputs": [
    {
     "data": {
      "text/plain": [
       "(300, 10000, '.')"
      ]
     },
     "execution_count": 27,
     "metadata": {},
     "output_type": "execute_result"
    }
   ],
   "source": [
    "class FusionPlant(PowerPlant):\n",
    "    def __init__(self, f, out, hydrogen_demand):\n",
    "        super(FusionPlant, self).__init__(f, out)\n",
    "        \n",
    "        self.hydrogen_demand = hydrogen_demand\n",
    "        \n",
    "fp = FusionPlant(0.1, 10_000, 300)\n",
    "fp.hydrogen_demand, fp.out, fp.shape"
   ]
  }
 ],
 "metadata": {
  "kernelspec": {
   "display_name": "Python 3",
   "language": "python",
   "name": "python3"
  },
  "language_info": {
   "codemirror_mode": {
    "name": "ipython",
    "version": 3
   },
   "file_extension": ".py",
   "mimetype": "text/x-python",
   "name": "python",
   "nbconvert_exporter": "python",
   "pygments_lexer": "ipython3",
   "version": "3.7.7"
  }
 },
 "nbformat": 4,
 "nbformat_minor": 4
}
