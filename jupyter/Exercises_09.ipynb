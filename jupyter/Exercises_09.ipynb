{
 "cells": [
  {
   "cell_type": "markdown",
   "metadata": {},
   "source": [
    "# Pre-Exercises"
   ]
  },
  {
   "cell_type": "code",
   "execution_count": 1,
   "metadata": {},
   "outputs": [],
   "source": [
    "# importing matplotlib.pyplot allows us to generate graphs\n",
    "import matplotlib.pyplot as plt"
   ]
  },
  {
   "cell_type": "markdown",
   "metadata": {},
   "source": [
    "Create a function ``populationCalc()`` which calculates the population of a city from the area in square kilometers and the population density in population / square kilometer and writes it to the screen with ``print()``. Test the function with Graz (area = 127, density = 2274). This should give about 288800."
   ]
  },
  {
   "cell_type": "code",
   "execution_count": 2,
   "metadata": {},
   "outputs": [
    {
     "name": "stdout",
     "output_type": "stream",
     "text": [
      "288798\n"
     ]
    }
   ],
   "source": [
    "def populationCalc(area, density):\n",
    "    pop = density * area\n",
    "    # print(pop)\n",
    "    return pop\n",
    "\n",
    "val = populationCalc(127, 2274)\n",
    "print(val)"
   ]
  },
  {
   "cell_type": "markdown",
   "metadata": {},
   "source": [
    "Now write a function ``calcGraz()`` that calls the function ``populationCalc()`` but always uses the arguments of Graz. You just have to put the function call you already have into your own function definition (doesn't need any input parameters) and then call grazberechnen() in the main program."
   ]
  },
  {
   "cell_type": "code",
   "execution_count": 3,
   "metadata": {},
   "outputs": [
    {
     "name": "stdout",
     "output_type": "stream",
     "text": [
      "288798\n"
     ]
    }
   ],
   "source": [
    "def calcGraz():\n",
    "    return populationCalc(127, 2274)\n",
    "    \n",
    "val = calcGraz()\n",
    "print(val)"
   ]
  },
  {
   "cell_type": "markdown",
   "metadata": {},
   "source": [
    "Create a new function that calculates what would happen if Graz had more area. This function needs an input parameter ``newarea`` and reuses the density of Graz. So the call within the definition will look something like this: calculate ``populationCalc(newarea, 2274)``"
   ]
  },
  {
   "cell_type": "code",
   "execution_count": 4,
   "metadata": {},
   "outputs": [
    {
     "name": "stdout",
     "output_type": "stream",
     "text": [
      "291072\n"
     ]
    }
   ],
   "source": [
    "def moreArea(add_area):\n",
    "    new = populationCalc(area = 127+add_area, density=2274)\n",
    "    return new\n",
    "\n",
    "val = moreArea(1)\n",
    "print(val)"
   ]
  },
  {
   "cell_type": "markdown",
   "metadata": {},
   "source": [
    "Create a new function that calculates what would happen if Graz had a higher density but the same area."
   ]
  },
  {
   "cell_type": "code",
   "execution_count": 5,
   "metadata": {},
   "outputs": [
    {
     "name": "stdout",
     "output_type": "stream",
     "text": [
      "288925\n"
     ]
    }
   ],
   "source": [
    "def moreDensity(add_dens):\n",
    "    return populationCalc(area = 127, density = 2274+add_dens)\n",
    "\n",
    "val = moreDensity(1)\n",
    "print(val)"
   ]
  },
  {
   "cell_type": "markdown",
   "metadata": {},
   "source": [
    "Create a function ``compare()`` that calculates the following 2 populations:\n",
    "\n",
    "Graz with an area increased by 10 and Graz with a density increased by 200. These two populations are to be compared and with ``print()`` it is to be written on the screen whether city 1 or city 2 is larger.\n",
    "\n",
    "**Attention:** In order to be able to use the two values in the compare function, they must be called with e.g. ``city1 = populationCalc()``, so that the population is also stored under a name and not only *printed*. So you have to modify ``populationCalc()`` so that the population is also *returned* with return."
   ]
  },
  {
   "cell_type": "code",
   "execution_count": 6,
   "metadata": {},
   "outputs": [
    {
     "name": "stdout",
     "output_type": "stream",
     "text": [
      "City2\n",
      "None\n"
     ]
    }
   ],
   "source": [
    "def compare(add_area, add_dens):\n",
    "    city1 = moreArea(add_area)\n",
    "    city2 = moreDensity(add_dens)\n",
    "\n",
    "    if city1 > city2:\n",
    "        print(\"City1\")\n",
    "    elif city2 > city1:\n",
    "        print(\"City2\")\n",
    "    else:\n",
    "        print(\"Equal\")\n",
    "\n",
    "val = compare(10, 200)\n",
    "# if no 'return' statement is put into the function\n",
    "# it defaults to 'return None'\n",
    "print(val)"
   ]
  },
  {
   "cell_type": "markdown",
   "metadata": {},
   "source": [
    "# Exercise"
   ]
  },
  {
   "cell_type": "markdown",
   "metadata": {},
   "source": [
    "Create a function that can calculate the total emissions of an automobile. As input it needs:\n",
    "\n",
    "+ ``z`` (the time the car is in operation)\n",
    "+ ``s`` (the distance the car has traveled in total)\n",
    "+ ``e0`` (the emissions produced by the production of the car) \n",
    "+ ``ez`` (the emissions produced per unit of time the car is in operation) \n",
    "+ ``es`` (the emissions produced per unit of distance).\n",
    "\n",
    "The total emissions are then calculated from ``e0 + z * ez + s * es``\n",
    "\n",
    "Write a function called ``auto1()``. This function needs only ``z`` and ``s`` as input. This function then calls the first function and uses as ``e0`` always ``100``, as ``ez`` always ``10`` and as ``es`` always ``1``.\n",
    "\n",
    "Write a similar function called ``auto2()`` with ``e0`` always ``200``, ``ez`` always ``5`` and ``es`` always ``0.5``.\n",
    "\n",
    "Write a function that can decide, for a pair of values ``z`` and ``s``, which of the two cars would produce fewer emissions. Test this function with the value pairs ``7, 1000`` and ``10, 100``."
   ]
  },
  {
   "cell_type": "code",
   "execution_count": 7,
   "metadata": {},
   "outputs": [
    {
     "name": "stdout",
     "output_type": "stream",
     "text": [
      "Auto2 has more emissions\n"
     ]
    }
   ],
   "source": [
    "def emissions(z,s,e0,ez,es):\n",
    "    return e0 + z * ez + s * es\n",
    "\n",
    "def auto1(z,s):\n",
    "    return emissions(z,s,100,10,1)\n",
    "\n",
    "def auto2(z,s):\n",
    "    return emissions(z,s,200,5,0.5)\n",
    "\n",
    "def compareAutos(z,s):\n",
    "    a1 = auto1(z,s)\n",
    "    a2 = auto2(z,s)\n",
    "\n",
    "    if a1 > a2:\n",
    "        return \"Auto1 has more emissions\"\n",
    "    elif a2 > a1:\n",
    "        return \"Auto2 has more emissions\"\n",
    "    else:\n",
    "        return \"They appear to be equal\"\n",
    "\n",
    "s = compareAutos(2,1)\n",
    "# We can return strings\n",
    "# if we don't want to print inside the function\n",
    "print(s)"
   ]
  },
  {
   "cell_type": "markdown",
   "metadata": {},
   "source": [
    "# Helpful stuff"
   ]
  },
  {
   "cell_type": "markdown",
   "metadata": {},
   "source": [
    "Using the ``type()`` function we can ask any value in Python for its internal type:"
   ]
  },
  {
   "cell_type": "code",
   "execution_count": 8,
   "metadata": {},
   "outputs": [
    {
     "data": {
      "text/plain": [
       "(NoneType, function, module, numpy.ndarray)"
      ]
     },
     "execution_count": 8,
     "metadata": {},
     "output_type": "execute_result"
    }
   ],
   "source": [
    "import numpy as np\n",
    "\n",
    "type(None), type(compare), type(np), type(np.array([]))"
   ]
  },
  {
   "cell_type": "markdown",
   "metadata": {},
   "source": [
    "**Type annotations** can create a clearer picture what a function actually does. They often spare you the effort of reading through the entire implementation.\n",
    "\n",
    "For the function *parameters* they work by putting a colon (``:``) and the type after the parameter name.\n",
    "For the return value of a function you use an arrow (``->``) and a type **before** the colon that starts the *code block* of the function body:\n",
    "\n",
    "~~~python\n",
    "def function(p1 : type_of_p1, p2 : type_of_p2) -> return_type:\n",
    "    ...\n",
    "~~~\n",
    "\n",
    "Take for example a function that adds two integers:"
   ]
  },
  {
   "cell_type": "code",
   "execution_count": 9,
   "metadata": {},
   "outputs": [
    {
     "data": {
      "text/plain": [
       "(3, int, 6, int)"
      ]
     },
     "execution_count": 9,
     "metadata": {},
     "output_type": "execute_result"
    }
   ],
   "source": [
    "def double(x : int) -> int:\n",
    "    return x*2\n",
    "\n",
    "res = double(3)\n",
    "3, type(3), res, type(res)"
   ]
  },
  {
   "cell_type": "markdown",
   "metadata": {},
   "source": [
    "But what about functions that do not ``return`` anything?"
   ]
  },
  {
   "cell_type": "code",
   "execution_count": 10,
   "metadata": {},
   "outputs": [
    {
     "name": "stdout",
     "output_type": "stream",
     "text": [
      "None\n"
     ]
    }
   ],
   "source": [
    "def nothing() -> None:\n",
    "    pass\n",
    "\n",
    "n = nothing()\n",
    "print(n)"
   ]
  },
  {
   "cell_type": "markdown",
   "metadata": {},
   "source": [
    "The [``typing``](https://docs.python.org/3/library/typing.html) module helps you specify more complicated types:"
   ]
  },
  {
   "cell_type": "code",
   "execution_count": 11,
   "metadata": {},
   "outputs": [
    {
     "data": {
      "text/plain": [
       "(3, int, [1, 2], list, [3, 6], list)"
      ]
     },
     "execution_count": 11,
     "metadata": {},
     "output_type": "execute_result"
    }
   ],
   "source": [
    "# import typing\n",
    "from typing import List\n",
    "\n",
    "def multList(n : int, l : List[int]) -> List[int]:\n",
    "    l_ = list()\n",
    "    for v in l:\n",
    "        l_.append(v*n)\n",
    "    return l_\n",
    "\n",
    "n = 3\n",
    "l = [1,2]\n",
    "res = multList(n, l)\n",
    "n, type(n), l, type(l), res, type(res)"
   ]
  },
  {
   "cell_type": "markdown",
   "metadata": {},
   "source": [
    "If you only want to quickly specify the type you can also just use strings:"
   ]
  },
  {
   "cell_type": "code",
   "execution_count": 12,
   "metadata": {},
   "outputs": [],
   "source": [
    "def len_(x : \"np.array of doubles\") -> int:\n",
    "    return len(x)"
   ]
  },
  {
   "cell_type": "markdown",
   "metadata": {},
   "source": [
    "Python itself **does not** check if the type annotations are correct. There are, however, third party type checkers that will do so. In that case you have to use ``typing`` correctly - but that's beyond the scope of this lecture."
   ]
  }
 ],
 "metadata": {
  "interpreter": {
   "hash": "6c4ac116ab787042da9c41ffbc80bf30673155c2b9a9aef53a035d5874a07869"
  },
  "kernelspec": {
   "display_name": "Python 3",
   "language": "python",
   "name": "python3"
  },
  "language_info": {
   "codemirror_mode": {
    "name": "ipython",
    "version": 3
   },
   "file_extension": ".py",
   "mimetype": "text/x-python",
   "name": "python",
   "nbconvert_exporter": "python",
   "pygments_lexer": "ipython3",
   "version": "3.7.7"
  }
 },
 "nbformat": 4,
 "nbformat_minor": 4
}
