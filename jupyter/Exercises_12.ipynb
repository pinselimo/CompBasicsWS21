{
 "cells": [
  {
   "cell_type": "markdown",
   "metadata": {},
   "source": [
    "# Pre-Exercises"
   ]
  },
  {
   "cell_type": "code",
   "execution_count": 1,
   "metadata": {},
   "outputs": [],
   "source": [
    "# importing matplotlib.pyplot allows us to generate graphs\n",
    "import matplotlib.pyplot as plt\n",
    "\n",
    "import random as rd\n",
    "import numpy as np"
   ]
  },
  {
   "cell_type": "markdown",
   "metadata": {},
   "source": [
    "Create a class `Fungus` that gets x and y position passed in the initialization method. The `size` attribute, on the other hand, is to be set randomly between 0 and 200.\n",
    "\n",
    "Build a method in which the fungi draw themselves at the correct position with a scatterplot. As size `s` in the scatterplot `plt.scatter(x, y, s=...)` the attribute `size` is to be used.\n",
    "\n",
    "Create 20 fungi. Then go through the list of fungi and find the largest fungus.\n",
    "\n",
    "When you have found the largest fungus, it should be picked. To do this, create a variable `basket` (outside the loop), which is increased by the size of the picked fungus. After that, the size of the fungus should be set to 0. Repeat this picking until the basket is greater than 500. A `while` loop is definitely helpful here. Plot the fungus forest before and after picking."
   ]
  },
  {
   "cell_type": "code",
   "execution_count": 21,
   "metadata": {},
   "outputs": [
    {
     "data": {
      "image/png": "[encoded data removed]",
      "text/plain": [
       "<Figure size 432x288 with 1 Axes>"
      ]
     },
     "metadata": {
      "needs_background": "light"
     },
     "output_type": "display_data"
    },
    {
     "data": {
      "image/png": "[encoded data removed]",
      "text/plain": [
       "<Figure size 432x288 with 1 Axes>"
      ]
     },
     "metadata": {
      "needs_background": "light"
     },
     "output_type": "display_data"
    },
    {
     "data": {
      "text/plain": [
       "566"
      ]
     },
     "execution_count": 21,
     "metadata": {},
     "output_type": "execute_result"
    }
   ],
   "source": [
    "class Fungus:\n",
    "    def __init__(self, x, y):\n",
    "        self.x = x\n",
    "        self.y = y\n",
    "        self.size = rd.randint(0, 200)\n",
    "    \n",
    "    def draw(self):\n",
    "        plt.scatter(self.x, self.y, s = self.size)\n",
    "        \n",
    "    # We use the __lt__ ()\"lesser than\") method to\n",
    "    # make the \">\" operator work on instances of Fungus\n",
    "    # Observe below how the \"max\" function now works on Fungi!\n",
    "    def __gt__(self, other):\n",
    "        return self.size > other.size\n",
    "    \n",
    "    def pick(self):\n",
    "        sz = self.size\n",
    "        self.size = 0\n",
    "        return sz\n",
    "    \n",
    "fungi = [\n",
    "    Fungus(x = rd.randint(0, 10), y = rd.randint(0, 10)) \n",
    "    for _ in range(20)\n",
    "    ]\n",
    "\n",
    "for fungus in fungi:\n",
    "    fungus.draw()\n",
    "plt.show();\n",
    "\n",
    "# Imperative way to find max\n",
    "largest = fungi[0]\n",
    "for fungus in fungi:\n",
    "    if fungus.size > largest.size:\n",
    "        largest = fungus\n",
    "largest.size\n",
    "\n",
    "# object oriented way\n",
    "largest = max(fungi)\n",
    "largest.size\n",
    "\n",
    "# functional way (in the case we had no __gt__ method)\n",
    "def get_size(fungus):\n",
    "    return fungus.size\n",
    "\n",
    "largest = max(fungi, key=get_size)\n",
    "largest.size\n",
    "\n",
    "\n",
    "# Last Pre-Exercise\n",
    "basket = 0\n",
    "while basket <= 500:\n",
    "    largest = max(fungi)\n",
    "    basket += largest.pick()\n",
    "\n",
    "for fungus in fungi:\n",
    "    fungus.draw()\n",
    "plt.show();\n",
    "\n",
    "    \n",
    "basket"
   ]
  },
  {
   "cell_type": "markdown",
   "metadata": {},
   "source": [
    "# Exercise"
   ]
  },
  {
   "cell_type": "markdown",
   "metadata": {},
   "source": [
    "Create a class `PowerPlant`. The initialization method is to be given the arguments `f` (emission factor) and `out` (power output). In addition to these two attributes, the `inoperation` attribute is set to \"no\" and the `shape` attribute is set to \".\".\n",
    "\n",
    "The following methods are needed:\n",
    "+ `emissions()` shall calculate the total emissions from `f` times `out` and return the result.\n",
    "+ `turn_on()` shall set the `inoperation` attribute to \"yes\".\n",
    "+ `draw()` shall draw the power plant to a random position (x from 0 to 5, y from 0 to 5) with a scatterplot. (The positions don't have to be saved, but shall be randomly generated each time the power plant is drawn). As form of the marker marker=... is the character that is stored as object attribute under shape. As size s=... the attribtue output divided by 10 is to be used. The color c=... depends on the attribute inoperation: If it says \"no\", the power plant is drawn red, otherwise green.\n",
    "\n",
    "Now create 2 classes based on the class power plant (inheritance). They differ only in the initialization method. The class `Water` always has an emission factor `f` of 10 and gets \"s\" as `shape`. Additionally, there is a new attribute called `type`, which is set to \"water\". The second subclass `Wind`, has the factor 30, the shape \"o\" and the type \"wind\".\n",
    "\n",
    "Now create 20 power plants in the main program. With a 50% chance it will be a hydroelectric power plant, otherwise it will be a wind power plant. Hydropower plants have a random power between 100 and 500. Wind power plants have a random power between 100 and 2000.\n",
    "\n",
    "Now go over all the power plants and turn on only the hydro plants. Calculate the total electricity produced and the total emissions produced (only power plants that are turned on contribute to the totals).\n",
    "\n",
    "Now switch on as many wind power plants as necessary to cover the demand of 4000. To do this, gradually turn on the smallest wind power plant that is not yet turned on until the total electricity produced exceeds 4000. Plot all the power plants. When everything has worked, there should be no red squares in the plot and no green circle larger than a red circle."
   ]
  },
  {
   "cell_type": "code",
   "execution_count": 37,
   "metadata": {},
   "outputs": [
    {
     "name": "stdout",
     "output_type": "stream",
     "text": [
      "Power:  3202\n",
      "Emissions:  32020\n",
      "Power: 4390\n"
     ]
    },
    {
     "data": {
      "image/png": "[encoded data removed]",
      "text/plain": [
       "<Figure size 432x288 with 1 Axes>"
      ]
     },
     "metadata": {
      "needs_background": "light"
     },
     "output_type": "display_data"
    }
   ],
   "source": [
    "class PowerPlant:\n",
    "    def __init__(self, f, out):\n",
    "        self.f = f\n",
    "        self.out = out\n",
    "        self.inoperation = 'no'\n",
    "        self.shape = '.'\n",
    "        \n",
    "    def emissions(self):\n",
    "        return self.f * self.out\n",
    "    \n",
    "    def turn_on(self):\n",
    "        self.inoperation = 'yes'\n",
    "        \n",
    "    def draw(self):\n",
    "        plt.scatter(rd.randint(0,5), rd.randint(0,5)\n",
    "                   , marker=self.shape\n",
    "                   , s = self.out / 10\n",
    "                   , color = 'red' if self.inoperation == 'no' else 'green'\n",
    "                   )\n",
    "\n",
    "class Water(PowerPlant):\n",
    "    def __init__(self, out):\n",
    "        super(Water, self).__init__(10, out)\n",
    "        \n",
    "        self.shape = 's'\n",
    "        self.type = 'water'\n",
    "\n",
    "class Wind(PowerPlant):\n",
    "    def __init__(self, out):\n",
    "        super(Wind, self).__init__(30, out)\n",
    "        \n",
    "        self.shape = 'o'\n",
    "        self.type = 'wind'\n",
    "        \n",
    "    # We use the __lt__ ()\"lesser than\") method to\n",
    "    # make the \"<\" operator work on instances of Wind\n",
    "    def __lt__(self, other):\n",
    "        return self.out < other.out\n",
    "        \n",
    "powerplants = [\n",
    "    Wind(rd.randint(100, 2000)) if rd.random() < 0.5 else Water(rd.randint(100, 500))\n",
    "    for _ in range(20)\n",
    "]\n",
    "\n",
    "# turn on hydro\n",
    "for pp in powerplants:\n",
    "    if pp.type == 'water':\n",
    "        pp.turn_on()\n",
    "        \n",
    "# collect power and emissions\n",
    "tot_pow = sum(pp.out for pp in powerplants if pp.inoperation == 'yes')\n",
    "tot_ems = sum(pp.emissions() for pp in powerplants if pp.inoperation == 'yes')\n",
    "print(\"Power: \", tot_pow)\n",
    "print(\"Emissions: \", tot_ems)\n",
    "\n",
    "# turn on windmills\n",
    "windpps = [pp for pp in powerplants if pp.type == 'wind']\n",
    "while tot_pow < 4000:\n",
    "    new_wind = min([pp for pp in windpps if pp.inoperation == 'no'])\n",
    "    new_wind.turn_on()\n",
    "    tot_pow += new_wind.out\n",
    "\n",
    "print(\"Power:\", tot_pow)\n",
    "\n",
    "# Plot\n",
    "for pp in powerplants:\n",
    "    pp.draw()"
   ]
  },
  {
   "cell_type": "markdown",
   "metadata": {},
   "source": [
    "# Helpful stuff"
   ]
  },
  {
   "cell_type": "markdown",
   "metadata": {},
   "source": [
    "We now know that a class `B` can inherit methods from a class `A` by defining it as `B(A)`. But what if another class `C` inherits from `B`? Will it also inherit from `A`?"
   ]
  },
  {
   "cell_type": "code",
   "execution_count": 3,
   "metadata": {},
   "outputs": [
    {
     "data": {
      "text/plain": [
       "63"
      ]
     },
     "execution_count": 3,
     "metadata": {},
     "output_type": "execute_result"
    }
   ],
   "source": [
    "class A:\n",
    "    X = 63\n",
    "class B(A):\n",
    "    pass\n",
    "class C(B):\n",
    "    pass\n",
    "\n",
    "c = C()\n",
    "c.X # it does!"
   ]
  },
  {
   "cell_type": "markdown",
   "metadata": {},
   "source": [
    "This was foreseeable. Let's have a look at a more interesting case: *Multiple inheritance*\n",
    "\n",
    "Let's say we have two separate classes:\n",
    "+ `A1` defines an attribute `X` as `63`\n",
    "+ `A2` defined an attribute, also named `X`, as `42`\n",
    "\n",
    "The class `B` inherits from both `A1` and `A2`, just as `C` but in reverse order:"
   ]
  },
  {
   "cell_type": "code",
   "execution_count": 4,
   "metadata": {},
   "outputs": [
    {
     "data": {
      "text/plain": [
       "(63, 42)"
      ]
     },
     "execution_count": 4,
     "metadata": {},
     "output_type": "execute_result"
    }
   ],
   "source": [
    "class A1:\n",
    "    X = 63\n",
    "class A2:\n",
    "    X = 42\n",
    "    \n",
    "class B(A1, A2):\n",
    "    pass\n",
    "class C(A2, A1):\n",
    "    pass\n",
    "\n",
    "b = B()\n",
    "c = C()\n",
    "b.X, c.X"
   ]
  },
  {
   "cell_type": "markdown",
   "metadata": {},
   "source": [
    "We can observe, that the order of inheritance is in fact important!\n",
    "\n",
    "If we want to have a look at the order at which attribute and method names are looked up, we can use the `__mro__` attribute of a class:"
   ]
  },
  {
   "cell_type": "code",
   "execution_count": 8,
   "metadata": {},
   "outputs": [
    {
     "data": {
      "text/plain": [
       "(__main__.B, __main__.A1, __main__.A2, object)"
      ]
     },
     "execution_count": 8,
     "metadata": {},
     "output_type": "execute_result"
    }
   ],
   "source": [
    "B.__mro__"
   ]
  },
  {
   "cell_type": "code",
   "execution_count": null,
   "metadata": {},
   "outputs": [],
   "source": [
    "C.__mro__"
   ]
  },
  {
   "cell_type": "markdown",
   "metadata": {},
   "source": [
    "Just above I mentioned a method or attribute can be *overridden*. Let's see how that works.\n",
    "\n",
    "Say in the last example we also want to add a fusion power plant. It is like a normal power plant, but we need to know how much hydrogen it uses:"
   ]
  },
  {
   "cell_type": "code",
   "execution_count": 38,
   "metadata": {},
   "outputs": [
    {
     "data": {
      "text/plain": [
       "300"
      ]
     },
     "execution_count": 38,
     "metadata": {},
     "output_type": "execute_result"
    }
   ],
   "source": [
    "class FusionPlant(PowerPlant):\n",
    "    def __init__(self, hydrogen_demand):\n",
    "        self.hydrogen_demand = hydrogen_demand\n",
    "        \n",
    "fp = FusionPlant(300)\n",
    "fp.hydrogen_demand"
   ]
  },
  {
   "cell_type": "markdown",
   "metadata": {},
   "source": [
    "That seems to work, but the mindful reader may have noticed: We do not initialize `PowerPlant` proper!\n",
    "\n",
    "We can observe this easily:"
   ]
  },
  {
   "cell_type": "code",
   "execution_count": 39,
   "metadata": {},
   "outputs": [
    {
     "ename": "AttributeError",
     "evalue": "'FusionPlant' object has no attribute 'shape'",
     "output_type": "error",
     "traceback": [
      "\u001b[1;31m---------------------------------------------------------------------------\u001b[0m",
      "\u001b[1;31mAttributeError\u001b[0m                            Traceback (most recent call last)",
      "\u001b[1;32m<ipython-input-39-be9770a3f291>\u001b[0m in \u001b[0;36m<module>\u001b[1;34m\u001b[0m\n\u001b[1;32m----> 1\u001b[1;33m \u001b[0mfp\u001b[0m\u001b[1;33m.\u001b[0m\u001b[0mshape\u001b[0m\u001b[1;33m,\u001b[0m \u001b[0mfp\u001b[0m\u001b[1;33m.\u001b[0m\u001b[0mout\u001b[0m\u001b[1;33m.\u001b[0m \u001b[0mfp\u001b[0m\u001b[1;33m.\u001b[0m\u001b[0mf\u001b[0m\u001b[1;33m\u001b[0m\u001b[1;33m\u001b[0m\u001b[0m\n\u001b[0m",
      "\u001b[1;31mAttributeError\u001b[0m: 'FusionPlant' object has no attribute 'shape'"
     ]
    }
   ],
   "source": [
    "fp.shape, fp.out. fp.f"
   ]
  },
  {
   "cell_type": "markdown",
   "metadata": {},
   "source": [
    "So how would we do this? We call `super` !"
   ]
  },
  {
   "cell_type": "code",
   "execution_count": 41,
   "metadata": {},
   "outputs": [
    {
     "data": {
      "text/plain": [
       "(300, 10000)"
      ]
     },
     "execution_count": 41,
     "metadata": {},
     "output_type": "execute_result"
    }
   ],
   "source": [
    "class FusionPlant(PowerPlant):\n",
    "    def __init__(self, f, out, hydrogen_demand):\n",
    "        super(FusionPlant, self).__init__(f, out)\n",
    "        \n",
    "        self.hydrogen_demand = hydrogen_demand\n",
    "        \n",
    "fp = FusionPlant(0.1, 10_000, 300)\n",
    "fp.hydrogen_demand, fp.out"
   ]
  }
 ],
 "metadata": {
  "interpreter": {
   "hash": "6c4ac116ab787042da9c41ffbc80bf30673155c2b9a9aef53a035d5874a07869"
  },
  "kernelspec": {
   "display_name": "Python 3",
   "language": "python",
   "name": "python3"
  },
  "language_info": {
   "codemirror_mode": {
    "name": "ipython",
    "version": 3
   },
   "file_extension": ".py",
   "mimetype": "text/x-python",
   "name": "python",
   "nbconvert_exporter": "python",
   "pygments_lexer": "ipython3",
   "version": "3.7.7"
  }
 },
 "nbformat": 4,
 "nbformat_minor": 4
}
