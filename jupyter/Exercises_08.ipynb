{
 "cells": [
  {
   "cell_type": "markdown",
   "metadata": {},
   "source": [
    "# Pre-Exercises"
   ]
  },
  {
   "cell_type": "code",
   "execution_count": 1,
   "metadata": {},
   "outputs": [],
   "source": [
    "# importing matplotlib.pyplot allows us to generate graphs\n",
    "import matplotlib.pyplot as plt\n",
    "\n",
    "import random\n",
    "import numpy as np"
   ]
  },
  {
   "cell_type": "markdown",
   "metadata": {},
   "source": [
    "Create a forest with random tree size, the same as in the VO script. However, the forest should have the dimension 10 by 20."
   ]
  },
  {
   "cell_type": "markdown",
   "metadata": {},
   "source": [
    "Build in some randomness so that there is only a 10% chance that a tree will grow at all."
   ]
  },
  {
   "cell_type": "markdown",
   "metadata": {},
   "source": [
    "Find the largest tree, similar to the VO script. However, save not only the size of the tree, but also the x-position at which it was found (this could be the ``it``, for example)."
   ]
  },
  {
   "cell_type": "code",
   "execution_count": 2,
   "metadata": {},
   "outputs": [
    {
     "data": {
      "text/plain": [
       "(0.9281816783062189,\n",
       " 3,\n",
       " array([0.        , 0.        , 0.92818168, 0.        , 0.        ,\n",
       "        0.        , 0.        , 0.        , 0.        , 0.        ,\n",
       "        0.        , 0.        , 0.        , 0.        , 0.0327272 ,\n",
       "        0.        , 0.        , 0.        , 0.        , 0.        ]))"
      ]
     },
     "execution_count": 2,
     "metadata": {},
     "output_type": "execute_result"
    },
    {
     "data": {
      "image/png": "[encoded data removed]",
      "text/plain": [
       "<Figure size 576x288 with 1 Axes>"
      ]
     },
     "metadata": {
      "needs_background": "light"
     },
     "output_type": "display_data"
    }
   ],
   "source": [
    "# Use the magic command \"timeit\" to find how long a cell takes on average\n",
    "# to process. Attention: Remove any usage of \"print\" or \"plot\" as such\n",
    "# operations usually take a lot of time.\n",
    "# %%timeit\n",
    "\n",
    "XDIM = 10\n",
    "YDIM = 20\n",
    "\n",
    "forest = np.zeros([XDIM, YDIM])\n",
    "\n",
    "for it in range(XDIM):\n",
    "    for jt in range(YDIM):\n",
    "        if random.uniform(0,1) < 0.1:\n",
    "            forest[it][jt] = random.uniform(0,1)\n",
    "        else:\n",
    "            pass\n",
    "        \n",
    "plt.matshow(forest, cmap = plt.cm.Greens)\n",
    "\n",
    "maximum = 0\n",
    "max_x_pos = -1\n",
    "for it in range(XDIM):\n",
    "    for jt in range(YDIM):\n",
    "        if forest[it][jt] > maximum:\n",
    "            max_x_pos = it\n",
    "            maximum = forest[it][jt]\n",
    "            \n",
    "maximum, max_x_pos, forest[max_x_pos]"
   ]
  },
  {
   "cell_type": "markdown",
   "metadata": {},
   "source": [
    "# Exercise"
   ]
  },
  {
   "cell_type": "markdown",
   "metadata": {},
   "source": [
    "Create a forest of size 20 by 10. On each field can grow either a tree, or a mushroom. Mushrooms have a 10% chance of growing, otherwise a tree is created. Mushrooms are represented by random numbers from 0 to 1, trees get random numbers from 10 to 50.\n",
    "\n",
    "Walk in a double loop through the forest. Find the biggest mushroom in the forest and write its position and size on the screen."
   ]
  },
  {
   "cell_type": "code",
   "execution_count": 3,
   "metadata": {},
   "outputs": [
    {
     "name": "stdout",
     "output_type": "stream",
     "text": [
      "Maximum Mushroom size:  0.9961456718135151\n",
      "Position:  (5, 9)\n"
     ]
    },
    {
     "data": {
      "image/png": "[encoded data removed]",
      "text/plain": [
       "<Figure size 576x288 with 1 Axes>"
      ]
     },
     "metadata": {
      "needs_background": "light"
     },
     "output_type": "display_data"
    }
   ],
   "source": [
    "XDIM, YDIM = 20, 10\n",
    "\n",
    "forest2d = np.zeros([XDIM, YDIM])\n",
    "\n",
    "for it in range(XDIM):\n",
    "    for jt in range(YDIM):\n",
    "        # try growing a mushroom\n",
    "        if random.uniform(0,1) < 0.1:\n",
    "            forest2d[it][jt] = random.uniform(0,1)\n",
    "        else: # grow a tree\n",
    "            forest2d[it][jt] = random.uniform(10, 50)\n",
    "            \n",
    "plt.matshow(forest2d.T, cmap=plt.cm.Greens)\n",
    "\n",
    "maxmush = 0\n",
    "xposmaxmush = -1\n",
    "yposmaxmush = -1\n",
    "for it in range(XDIM):\n",
    "    for jt in range(YDIM):\n",
    "        # check if we have found a shroom\n",
    "        if forest2d[it][jt] < 10:\n",
    "            if forest2d[it][jt] > maxmush:\n",
    "                maxmush = forest2d[it][jt]\n",
    "                xposmaxmush = it\n",
    "                yposmaxmush = jt\n",
    "                \n",
    "print(\"Maximum Mushroom size: \", maxmush)\n",
    "print(\"Position: \", (xposmaxmush, yposmaxmush))"
   ]
  },
  {
   "cell_type": "markdown",
   "metadata": {},
   "source": [
    "## Pre-Ex. Using numpy vectorization\n",
    "\n",
    "Numpy's own ``np.random`` module contains many helpful functions to create matrices and vectors of random values.\n",
    "\n",
    "As always, try: ``dir(np.random)``, observe that there is a ``uniform`` and check its API using ``help(np.random.uniform)``."
   ]
  },
  {
   "cell_type": "code",
   "execution_count": 4,
   "metadata": {},
   "outputs": [
    {
     "name": "stdout",
     "output_type": "stream",
     "text": [
      "Maximum:  0.9561352924482752\n",
      "Maximum pos:  (4, 5)\n"
     ]
    },
    {
     "data": {
      "text/plain": [
       "<matplotlib.image.AxesImage at 0x1d12c6a2e48>"
      ]
     },
     "execution_count": 4,
     "metadata": {},
     "output_type": "execute_result"
    },
    {
     "data": {
      "image/png": "[encoded data removed]",
      "text/plain": [
       "<Figure size 288x576 with 1 Axes>"
      ]
     },
     "metadata": {
      "needs_background": "light"
     },
     "output_type": "display_data"
    }
   ],
   "source": [
    "# %%timeit\n",
    "XDIM, YDIM = 20, 10\n",
    "\n",
    "forest = np.random.uniform(low=0.0, high=1.0, size=(XDIM, YDIM))\n",
    "\n",
    "chance_tree_grow = np.random.choice(\n",
    "      [0,1] # Choose either one or zero\n",
    "    , size=(XDIM, YDIM) # Create an array with dimensions XDIM * YDIM\n",
    "    , p=[0.9, 0.1] # Probability of 0 : 90 % and 1 : 10 %\n",
    "    )\n",
    "\n",
    "forest = forest * chance_tree_grow # we could also use \" *= \"\n",
    "\n",
    "maximum = np.max(forest) # the maximum is retrieved using np.max\n",
    "pos_max = np.unravel_index(np.argmax(forest), forest.shape)\n",
    "# the index of the maximum value can also be found using numpy!\n",
    "\n",
    "\n",
    "print(\"Maximum: \", maximum)\n",
    "print(\"Maximum pos: \", pos_max)\n",
    "plt.matshow(forest , cmap=plt.cm.Greens)"
   ]
  }
 ],
 "metadata": {
  "interpreter": {
   "hash": "6c4ac116ab787042da9c41ffbc80bf30673155c2b9a9aef53a035d5874a07869"
  },
  "kernelspec": {
   "display_name": "Python 3",
   "language": "python",
   "name": "python3"
  },
  "language_info": {
   "codemirror_mode": {
    "name": "ipython",
    "version": 3
   },
   "file_extension": ".py",
   "mimetype": "text/x-python",
   "name": "python",
   "nbconvert_exporter": "python",
   "pygments_lexer": "ipython3",
   "version": "3.7.7"
  }
 },
 "nbformat": 4,
 "nbformat_minor": 4
}
